{
 "cells": [
  {
   "cell_type": "code",
   "execution_count": 1,
   "metadata": {},
   "outputs": [
    {
     "data": {
      "text/html": [
       "<script>requirejs.config({paths: { 'plotly': ['https://cdn.plot.ly/plotly-latest.min']},});if(!window.Plotly) {{require(['plotly'],function(plotly) {window.Plotly=plotly;});}}</script>"
      ],
      "text/vnd.plotly.v1+html": [
       "<script>requirejs.config({paths: { 'plotly': ['https://cdn.plot.ly/plotly-latest.min']},});if(!window.Plotly) {{require(['plotly'],function(plotly) {window.Plotly=plotly;});}}</script>"
      ]
     },
     "metadata": {},
     "output_type": "display_data"
    },
    {
     "data": {
      "text/plain": [
       "'2.4.1'"
      ]
     },
     "execution_count": 1,
     "metadata": {},
     "output_type": "execute_result"
    }
   ],
   "source": [
    "import plotly\n",
    "import plotly.graph_objs as go\n",
    "import pandas as pd\n",
    "#import plotly.plotly as py\n",
    "plotly.offline.init_notebook_mode(connected=True)\n",
    "plotly.__version__"
   ]
  },
  {
   "cell_type": "code",
   "execution_count": 2,
   "metadata": {},
   "outputs": [],
   "source": [
    "nodes = pd.read_csv(r'C:\\Users\\Apex\\Desktop\\nodes.csv', sep=';')\n",
    "links = pd.read_csv(r'C:\\Users\\Apex\\Desktop\\links.csv', sep=';')"
   ]
  },
  {
   "cell_type": "code",
   "execution_count": 3,
   "metadata": {
    "scrolled": false
   },
   "outputs": [
    {
     "data": {
      "application/vnd.plotly.v1+json": {
       "data": [
        {
         "domain": {
          "x": [
           0,
           1
          ],
          "y": [
           0,
           1
          ]
         },
         "link": {
          "source": [
           0,
           1,
           2,
           3,
           4,
           5,
           6,
           7,
           8,
           9,
           10,
           11,
           12,
           13,
           14,
           15,
           18,
           18,
           18,
           18,
           15,
           15
          ],
          "target": [
           8,
           8,
           8,
           8,
           8,
           8,
           8,
           8,
           15,
           15,
           15,
           15,
           15,
           15,
           15,
           18,
           19,
           20,
           21,
           22,
           16,
           17
          ],
          "value": [
           72.583,
           383.76199999999994,
           143.623,
           498.023,
           119.936,
           136.043,
           342.559,
           84.82600000000001,
           1781.355,
           4698.462,
           1486.6670000000001,
           1508.2820000000002,
           3230.268,
           832.623,
           56.77,
           9328.578000000001,
           2700.41,
           2755.493,
           2429.5029999999997,
           1443.172,
           3270.705,
           995.143
          ]
         },
         "node": {
          "label": [
           "Wasserkraft",
           "Windkraft",
           "Photovoltaik",
           "Holz, Stroh u. a. feste Stoffe",
           "Biodiesel u.a.flüssige Brennstoffe",
           "Müll, Deponiegas",
           "Klärgas einschl. Biogas",
           "Sonstige Erneuerbare1)",
           "Erneuerbare",
           "   Mineralöl",
           "   Steinkohle",
           "   Braunkohle",
           "   Erdgas, Erdölgas",
           "   Kernenergie",
           "Andere",
           "Primärenergieverbrauch",
           "Verbrauch und Verluste im Energiesektor",
           " Nichtenergetischer Verbrauch",
           " Endenergieverbrauch",
           "Industrie",
           "Verkehr",
           "Haushalte",
           "Gewerbe, Handel, Dienstleistung"
          ],
          "line": {
           "color": "black",
           "width": 0.5
          },
          "pad": 15,
          "thickness": 20
         },
         "orientation": "h",
         "type": "sankey",
         "valueformat": ".1f",
         "valuesuffix": "PJ"
        }
       ],
       "layout": {
        "font": {
         "size": 12
        },
        "title": "Energieerzeugung und Endverbrauch Deutschland 2017",
        "updatemenus": [
         {
          "buttons": [
           {
            "args": [
             "orientation",
             "h"
            ],
            "label": "Horizontal",
            "method": "restyle"
           },
           {
            "args": [
             "orientation",
             "v"
            ],
            "label": "Vertical",
            "method": "restyle"
           }
          ],
          "y": 1
         }
        ]
       }
      },
      "text/html": [
       "<div id=\"1107f355-ac97-44de-8162-88413feda3d4\" style=\"height: 525px; width: 100%;\" class=\"plotly-graph-div\"></div><script type=\"text/javascript\">require([\"plotly\"], function(Plotly) { window.PLOTLYENV=window.PLOTLYENV || {};window.PLOTLYENV.BASE_URL=\"https://plot.ly\";Plotly.newPlot(\"1107f355-ac97-44de-8162-88413feda3d4\", [{\"type\": \"sankey\", \"domain\": {\"x\": [0, 1], \"y\": [0, 1]}, \"orientation\": \"h\", \"valueformat\": \".1f\", \"valuesuffix\": \"PJ\", \"node\": {\"pad\": 15, \"thickness\": 20, \"line\": {\"color\": \"black\", \"width\": 0.5}, \"label\": [\"Wasserkraft\", \"Windkraft\", \"Photovoltaik\", \"Holz, Stroh u. a. feste Stoffe\", \"Biodiesel u.a.fl\\u00fcssige Brennstoffe\", \"M\\u00fcll, Deponiegas\", \"Kl\\u00e4rgas einschl. Biogas\", \"Sonstige Erneuerbare1)\", \"Erneuerbare\", \"   Mineral\\u00f6l\", \"   Steinkohle\", \"   Braunkohle\", \"   Erdgas, Erd\\u00f6lgas\", \"   Kernenergie\", \"Andere\", \"Prim\\u00e4renergieverbrauch\", \"Verbrauch und Verluste im Energiesektor\", \" Nichtenergetischer Verbrauch\", \" Endenergieverbrauch\", \"Industrie\", \"Verkehr\", \"Haushalte\", \"Gewerbe, Handel, Dienstleistung\"]}, \"link\": {\"source\": [0, 1, 2, 3, 4, 5, 6, 7, 8, 9, 10, 11, 12, 13, 14, 15, 18, 18, 18, 18, 15, 15], \"target\": [8, 8, 8, 8, 8, 8, 8, 8, 15, 15, 15, 15, 15, 15, 15, 18, 19, 20, 21, 22, 16, 17], \"value\": [72.583, 383.76199999999994, 143.623, 498.023, 119.936, 136.043, 342.559, 84.82600000000001, 1781.355, 4698.462, 1486.6670000000001, 1508.2820000000002, 3230.268, 832.623, 56.77, 9328.578000000001, 2700.41, 2755.493, 2429.5029999999997, 1443.172, 3270.705, 995.143]}}], {\"title\": \"Energieerzeugung und Endverbrauch Deutschland 2017\", \"font\": {\"size\": 12}, \"updatemenus\": [{\"y\": 1, \"buttons\": [{\"label\": \"Horizontal\", \"method\": \"restyle\", \"args\": [\"orientation\", \"h\"]}, {\"label\": \"Vertical\", \"method\": \"restyle\", \"args\": [\"orientation\", \"v\"]}]}]}, {\"showLink\": true, \"linkText\": \"Export to plot.ly\"})});</script>"
      ],
      "text/vnd.plotly.v1+html": [
       "<div id=\"1107f355-ac97-44de-8162-88413feda3d4\" style=\"height: 525px; width: 100%;\" class=\"plotly-graph-div\"></div><script type=\"text/javascript\">require([\"plotly\"], function(Plotly) { window.PLOTLYENV=window.PLOTLYENV || {};window.PLOTLYENV.BASE_URL=\"https://plot.ly\";Plotly.newPlot(\"1107f355-ac97-44de-8162-88413feda3d4\", [{\"type\": \"sankey\", \"domain\": {\"x\": [0, 1], \"y\": [0, 1]}, \"orientation\": \"h\", \"valueformat\": \".1f\", \"valuesuffix\": \"PJ\", \"node\": {\"pad\": 15, \"thickness\": 20, \"line\": {\"color\": \"black\", \"width\": 0.5}, \"label\": [\"Wasserkraft\", \"Windkraft\", \"Photovoltaik\", \"Holz, Stroh u. a. feste Stoffe\", \"Biodiesel u.a.fl\\u00fcssige Brennstoffe\", \"M\\u00fcll, Deponiegas\", \"Kl\\u00e4rgas einschl. Biogas\", \"Sonstige Erneuerbare1)\", \"Erneuerbare\", \"   Mineral\\u00f6l\", \"   Steinkohle\", \"   Braunkohle\", \"   Erdgas, Erd\\u00f6lgas\", \"   Kernenergie\", \"Andere\", \"Prim\\u00e4renergieverbrauch\", \"Verbrauch und Verluste im Energiesektor\", \" Nichtenergetischer Verbrauch\", \" Endenergieverbrauch\", \"Industrie\", \"Verkehr\", \"Haushalte\", \"Gewerbe, Handel, Dienstleistung\"]}, \"link\": {\"source\": [0, 1, 2, 3, 4, 5, 6, 7, 8, 9, 10, 11, 12, 13, 14, 15, 18, 18, 18, 18, 15, 15], \"target\": [8, 8, 8, 8, 8, 8, 8, 8, 15, 15, 15, 15, 15, 15, 15, 18, 19, 20, 21, 22, 16, 17], \"value\": [72.583, 383.76199999999994, 143.623, 498.023, 119.936, 136.043, 342.559, 84.82600000000001, 1781.355, 4698.462, 1486.6670000000001, 1508.2820000000002, 3230.268, 832.623, 56.77, 9328.578000000001, 2700.41, 2755.493, 2429.5029999999997, 1443.172, 3270.705, 995.143]}}], {\"title\": \"Energieerzeugung und Endverbrauch Deutschland 2017\", \"font\": {\"size\": 12}, \"updatemenus\": [{\"y\": 1, \"buttons\": [{\"label\": \"Horizontal\", \"method\": \"restyle\", \"args\": [\"orientation\", \"h\"]}, {\"label\": \"Vertical\", \"method\": \"restyle\", \"args\": [\"orientation\", \"v\"]}]}]}, {\"showLink\": true, \"linkText\": \"Export to plot.ly\"})});</script>"
      ]
     },
     "metadata": {},
     "output_type": "display_data"
    }
   ],
   "source": [
    "data = dict(\n",
    "    type='sankey',\n",
    "    domain = dict(\n",
    "          x =  [0,1],\n",
    "          y =  [0,1]),\n",
    "    orientation = \"h\",\n",
    "    valueformat = \".1f\",\n",
    "    valuesuffix = \"PJ\",\n",
    "    node = dict(\n",
    "        pad = 15,\n",
    "        thickness = 20,\n",
    "        line = dict(\n",
    "        color = \"black\",\n",
    "        width = 0.5),\n",
    "        label = nodes.label),\n",
    "    \n",
    "    link = dict(\n",
    "        source = links.source,\n",
    "        target = links.target,\n",
    "        value = links.value),\n",
    ")\n",
    "\n",
    "layout =  dict(\n",
    "    title = \"Energieerzeugung und Endverbrauch Deutschland 2017\",\n",
    "    font = dict(size = 12),\n",
    "    updatemenus = [\n",
    "            dict(\n",
    "            y=1,\n",
    "            buttons=[\n",
    "                dict(\n",
    "                label='Horizontal',\n",
    "                method='restyle',\n",
    "                args=['orientation', 'h']\n",
    "                ),\n",
    "                \n",
    "                dict(\n",
    "                label='Vertical',\n",
    "                method='restyle',\n",
    "                args=['orientation', 'v']\n",
    "                )\n",
    "            ]\n",
    "            )\n",
    "        ]\n",
    "    \n",
    ")\n",
    "\n",
    "fig = dict(data=[data], layout=layout)\n",
    "plotly.offline.iplot(fig, validate=False)"
   ]
  },
  {
   "cell_type": "code",
   "execution_count": null,
   "metadata": {},
   "outputs": [],
   "source": []
  }
 ],
 "metadata": {
  "kernelspec": {
   "display_name": "Python 3",
   "language": "python",
   "name": "python3"
  },
  "language_info": {
   "codemirror_mode": {
    "name": "ipython",
    "version": 3
   },
   "file_extension": ".py",
   "mimetype": "text/x-python",
   "name": "python",
   "nbconvert_exporter": "python",
   "pygments_lexer": "ipython3",
   "version": "3.6.4"
  }
 },
 "nbformat": 4,
 "nbformat_minor": 2
}
